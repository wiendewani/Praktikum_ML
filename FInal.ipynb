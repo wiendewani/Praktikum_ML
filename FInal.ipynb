{
  "nbformat": 4,
  "nbformat_minor": 0,
  "metadata": {
    "colab": {
      "name": "FInal.ipynb",
      "provenance": [],
      "mount_file_id": "1C8Vihi_novLY2JorLQvmtcuuNr6IlhTs",
      "authorship_tag": "ABX9TyPNeYZx/VUY98j8+l6SNMya",
      "include_colab_link": true
    },
    "kernelspec": {
      "name": "python3",
      "display_name": "Python 3"
    },
    "language_info": {
      "name": "python"
    }
  },
  "cells": [
    {
      "cell_type": "markdown",
      "metadata": {
        "id": "view-in-github",
        "colab_type": "text"
      },
      "source": [
        "<a href=\"https://colab.research.google.com/github/wiendewani/Praktikum_ML/blob/main/FInal.ipynb\" target=\"_parent\"><img src=\"https://colab.research.google.com/assets/colab-badge.svg\" alt=\"Open In Colab\"/></a>"
      ]
    },
    {
      "cell_type": "code",
      "execution_count": 1,
      "metadata": {
        "id": "YZY65H_uwGvu"
      },
      "outputs": [],
      "source": [
        "from tensorflow.keras.preprocessing.image import ImageDataGenerator\n",
        "from tensorflow.keras.applications import MobileNetV2\n",
        "from tensorflow.keras.layers import AveragePooling2D\n",
        "from tensorflow.keras.layers import Dropout\n",
        "from tensorflow.keras.layers import Flatten\n",
        "from tensorflow.keras.layers import Dense\n",
        "from tensorflow.keras.layers import Input\n",
        "from tensorflow.keras.models import Model\n",
        "from tensorflow.keras.optimizers import Adam\n",
        "from tensorflow.keras.applications.mobilenet_v2 import preprocess_input\n",
        "from tensorflow.keras.preprocessing.image import img_to_array\n",
        "from tensorflow.keras.preprocessing.image import load_img\n",
        "from tensorflow.keras.utils import to_categorical\n",
        "from sklearn.preprocessing import LabelBinarizer\n",
        "from sklearn.model_selection import train_test_split\n",
        "from sklearn.metrics import classification_report\n",
        "from imutils import paths\n",
        "import matplotlib.pyplot as plt\n",
        "import numpy as np\n",
        "import os"
      ]
    },
    {
      "cell_type": "code",
      "source": [
        "!pip install imutils"
      ],
      "metadata": {
        "colab": {
          "base_uri": "https://localhost:8080/"
        },
        "id": "wt-Wxo-pwIKn",
        "outputId": "d6d1da4b-7b7a-45b0-d847-b05c1b5878d7"
      },
      "execution_count": 1,
      "outputs": [
        {
          "output_type": "stream",
          "name": "stdout",
          "text": [
            "Requirement already satisfied: imutils in /usr/local/lib/python3.7/dist-packages (0.5.4)\n"
          ]
        }
      ]
    },
    {
      "cell_type": "code",
      "source": [
        ""
      ],
      "metadata": {
        "id": "ffojtmsswQn0"
      },
      "execution_count": null,
      "outputs": []
    },
    {
      "cell_type": "code",
      "source": [
        "dataset_path='/content/drive/MyDrive/Pembelajaran Mesin/Project ML/data/data/'"
      ],
      "metadata": {
        "id": "UjhOrIa7wJqK"
      },
      "execution_count": 2,
      "outputs": []
    },
    {
      "cell_type": "code",
      "source": [
        "INIT_LR = 1e-4\n",
        "EPOCHS = 100\n",
        "BS = 32\n",
        "imagePaths = list(paths.list_images(dataset_path))"
      ],
      "metadata": {
        "id": "wPB-rdFtwdcq"
      },
      "execution_count": 3,
      "outputs": []
    },
    {
      "cell_type": "code",
      "source": [
        "data = []\n",
        "labels = []\n",
        "for imagePath in imagePaths:\n",
        "    label = imagePath.split(os.path.sep)[-2]\n",
        "    image = load_img(imagePath, target_size=(224, 224))\n",
        "    image = img_to_array(image)\n",
        "    image = preprocess_input(image)\n",
        "    data.append(image)\n",
        "    labels.append(label)\n",
        "data = np.array(data, dtype=\"float32\")\n",
        "labels = np.array(labels)\n",
        "lb = LabelBinarizer()\n",
        "labels = lb.fit_transform(labels)\n",
        "labels = to_categorical(labels)"
      ],
      "metadata": {
        "colab": {
          "base_uri": "https://localhost:8080/"
        },
        "id": "UwVPG3TKwgHE",
        "outputId": "9b84d7d0-be0f-4572-adcd-6f3c091e4651"
      },
      "execution_count": 4,
      "outputs": [
        {
          "output_type": "stream",
          "name": "stderr",
          "text": [
            "/usr/local/lib/python3.7/dist-packages/PIL/Image.py:960: UserWarning: Palette images with Transparency expressed in bytes should be converted to RGBA images\n",
            "  \"Palette images with Transparency expressed in bytes should be \"\n"
          ]
        }
      ]
    },
    {
      "cell_type": "code",
      "source": [
        "(trainX, testX, trainY, testY) = train_test_split(data, labels,test_size=0.20, stratify=labels, random_state=42)\n",
        "\n",
        "aug = ImageDataGenerator(\n",
        "    rotation_range=20,\n",
        "    zoom_range=0.15,\n",
        "    width_shift_range=0.2,\n",
        "    height_shift_range=0.2,\n",
        "    shear_range=0.15,\n",
        "    horizontal_flip=True,\n",
        "    fill_mode=\"nearest\")"
      ],
      "metadata": {
        "id": "e9hJr1Ghwju7"
      },
      "execution_count": 8,
      "outputs": []
    },
    {
      "cell_type": "code",
      "source": [
        "baseModel = MobileNetV2(weights=\"imagenet\", include_top=False,input_tensor=Input(shape=(224, 224, 3)))\n",
        "\n",
        "headModel = baseModel.output\n",
        "headModel = AveragePooling2D(pool_size=(7, 7))(headModel)\n",
        "headModel = Flatten(name=\"flatten\")(headModel)\n",
        "headModel = Dense(128, activation=\"relu\")(headModel)\n",
        "headModel = Dropout(0.5)(headModel)\n",
        "headModel = Dense(2, activation=\"softmax\")(headModel)\n",
        "model = Model(inputs=baseModel.input, outputs=headModel)"
      ],
      "metadata": {
        "colab": {
          "base_uri": "https://localhost:8080/"
        },
        "id": "cHRdzBlhwmhG",
        "outputId": "88256d41-b482-4cb6-cc86-9142eac780cf"
      },
      "execution_count": 6,
      "outputs": [
        {
          "output_type": "stream",
          "name": "stdout",
          "text": [
            "WARNING:tensorflow:`input_shape` is undefined or non-square, or `rows` is not in [96, 128, 160, 192, 224]. Weights for input shape (224, 224) will be loaded as the default.\n"
          ]
        }
      ]
    },
    {
      "cell_type": "code",
      "source": [
        "import tensorflow as tf"
      ],
      "metadata": {
        "id": "-BVplPWG1ylr"
      },
      "execution_count": 12,
      "outputs": []
    },
    {
      "cell_type": "code",
      "source": [
        "class myCallbacks(tf.keras.callbacks.Callback):\n",
        "    def on_epoch_end(self, epochs, logs={}) :\n",
        "        if(logs.get('acc') is not None and logs.get('val_acc') >= 0.87) :\n",
        "            print('\\nReached 95 % accuracy so cancelling training!')\n",
        "            self.model.stop_training = True\n",
        "\n",
        "\n",
        "callbacks = myCallbacks()"
      ],
      "metadata": {
        "id": "cSIuOSy81YPH"
      },
      "execution_count": 13,
      "outputs": []
    },
    {
      "cell_type": "code",
      "source": [
        "for layer in baseModel.layers:\n",
        "    layer.trainable = False\n",
        "opt = Adam(lr=INIT_LR, decay=INIT_LR / EPOCHS)\n",
        "model.compile(loss=\"binary_crossentropy\", optimizer=opt,metrics=[\"accuracy\"])\n",
        "\n",
        "H = model.fit(\n",
        "    aug.flow(trainX, trainY, batch_size=BS),\n",
        "    steps_per_epoch=len(trainX) // BS,\n",
        "    validation_data=(testX, testY),\n",
        "    validation_steps=len(testX) // BS,\n",
        "    epochs=EPOCHS, callbacks = callbacks)\n",
        "\n",
        "predIdxs = model.predict(testX, batch_size=BS)\n",
        "predIdxs = np.argmax(predIdxs, axis=1)\n",
        "\n",
        "print(classification_report(testY.argmax(axis=1), predIdxs,target_names=lb.classes_))\n",
        "\n",
        "model.save(\"data.h5\")\n",
        "N = EPOCHS\n",
        "plt.style.use(\"ggplot\")\n",
        "plt.figure()\n",
        "plt.plot(np.arange(0, N), H.history[\"loss\"], label=\"train_loss\")\n",
        "plt.plot(np.arange(0, N), H.history[\"val_loss\"], label=\"val_loss\")\n",
        "plt.plot(np.arange(0, N), H.history[\"accuracy\"], label=\"train_acc\")\n",
        "plt.plot(np.arange(0, N), H.history[\"val_accuracy\"], label=\"val_acc\")\n",
        "plt.title(\"Training Loss and Accuracy\")\n",
        "plt.xlabel(\"Epoch #\")\n",
        "plt.ylabel(\"Loss/Accuracy\")\n",
        "plt.legend(loc=\"lower left\")\n",
        "plt.savefig('ploy.jpg')"
      ],
      "metadata": {
        "colab": {
          "base_uri": "https://localhost:8080/",
          "height": 1000
        },
        "id": "8Q3sTgKAwqFR",
        "outputId": "4c12c776-dc1a-4526-90d8-e56c378d8f3a"
      },
      "execution_count": 14,
      "outputs": [
        {
          "output_type": "stream",
          "name": "stderr",
          "text": [
            "/usr/local/lib/python3.7/dist-packages/keras/optimizer_v2/adam.py:105: UserWarning: The `lr` argument is deprecated, use `learning_rate` instead.\n",
            "  super(Adam, self).__init__(name, **kwargs)\n"
          ]
        },
        {
          "output_type": "stream",
          "name": "stdout",
          "text": [
            "Epoch 1/100\n",
            "81/81 [==============================] - 108s 1s/step - loss: 0.6861 - accuracy: 0.6507 - val_loss: 0.5407 - val_accuracy: 0.7604\n",
            "Epoch 2/100\n",
            "81/81 [==============================] - 101s 1s/step - loss: 0.5474 - accuracy: 0.7565 - val_loss: 0.4855 - val_accuracy: 0.7972\n",
            "Epoch 3/100\n",
            "81/81 [==============================] - 104s 1s/step - loss: 0.4989 - accuracy: 0.7841 - val_loss: 0.4588 - val_accuracy: 0.7957\n",
            "Epoch 4/100\n",
            "81/81 [==============================] - 103s 1s/step - loss: 0.4778 - accuracy: 0.7974 - val_loss: 0.4425 - val_accuracy: 0.8157\n",
            "Epoch 5/100\n",
            "81/81 [==============================] - 103s 1s/step - loss: 0.4599 - accuracy: 0.8106 - val_loss: 0.4329 - val_accuracy: 0.8187\n",
            "Epoch 6/100\n",
            "81/81 [==============================] - 103s 1s/step - loss: 0.4476 - accuracy: 0.7989 - val_loss: 0.4250 - val_accuracy: 0.8203\n",
            "Epoch 7/100\n",
            "81/81 [==============================] - 103s 1s/step - loss: 0.4340 - accuracy: 0.8168 - val_loss: 0.4185 - val_accuracy: 0.8249\n",
            "Epoch 8/100\n",
            "81/81 [==============================] - 103s 1s/step - loss: 0.4199 - accuracy: 0.8238 - val_loss: 0.4200 - val_accuracy: 0.8172\n",
            "Epoch 9/100\n",
            "81/81 [==============================] - 103s 1s/step - loss: 0.4119 - accuracy: 0.8238 - val_loss: 0.4068 - val_accuracy: 0.8280\n",
            "Epoch 10/100\n",
            "81/81 [==============================] - 104s 1s/step - loss: 0.3977 - accuracy: 0.8347 - val_loss: 0.4043 - val_accuracy: 0.8295\n",
            "Epoch 11/100\n",
            "81/81 [==============================] - 105s 1s/step - loss: 0.3823 - accuracy: 0.8398 - val_loss: 0.4044 - val_accuracy: 0.8295\n",
            "Epoch 12/100\n",
            "81/81 [==============================] - 104s 1s/step - loss: 0.3895 - accuracy: 0.8324 - val_loss: 0.3960 - val_accuracy: 0.8341\n",
            "Epoch 13/100\n",
            "81/81 [==============================] - 105s 1s/step - loss: 0.3764 - accuracy: 0.8518 - val_loss: 0.3956 - val_accuracy: 0.8372\n",
            "Epoch 14/100\n",
            "81/81 [==============================] - 109s 1s/step - loss: 0.3810 - accuracy: 0.8487 - val_loss: 0.3980 - val_accuracy: 0.8372\n",
            "Epoch 15/100\n",
            "81/81 [==============================] - 105s 1s/step - loss: 0.3743 - accuracy: 0.8452 - val_loss: 0.3913 - val_accuracy: 0.8418\n",
            "Epoch 16/100\n",
            "81/81 [==============================] - 105s 1s/step - loss: 0.3617 - accuracy: 0.8499 - val_loss: 0.3914 - val_accuracy: 0.8356\n",
            "Epoch 17/100\n",
            "81/81 [==============================] - 104s 1s/step - loss: 0.3721 - accuracy: 0.8479 - val_loss: 0.3900 - val_accuracy: 0.8356\n",
            "Epoch 18/100\n",
            "81/81 [==============================] - 104s 1s/step - loss: 0.3518 - accuracy: 0.8600 - val_loss: 0.3893 - val_accuracy: 0.8341\n",
            "Epoch 19/100\n",
            "81/81 [==============================] - 105s 1s/step - loss: 0.3446 - accuracy: 0.8596 - val_loss: 0.3886 - val_accuracy: 0.8418\n",
            "Epoch 20/100\n",
            "81/81 [==============================] - 105s 1s/step - loss: 0.3493 - accuracy: 0.8576 - val_loss: 0.3895 - val_accuracy: 0.8310\n",
            "Epoch 21/100\n",
            "81/81 [==============================] - 105s 1s/step - loss: 0.3419 - accuracy: 0.8573 - val_loss: 0.4056 - val_accuracy: 0.8218\n",
            "Epoch 22/100\n",
            "81/81 [==============================] - 106s 1s/step - loss: 0.3436 - accuracy: 0.8565 - val_loss: 0.3913 - val_accuracy: 0.8326\n",
            "Epoch 23/100\n",
            "81/81 [==============================] - 105s 1s/step - loss: 0.3376 - accuracy: 0.8596 - val_loss: 0.3890 - val_accuracy: 0.8295\n",
            "Epoch 24/100\n",
            "81/81 [==============================] - 105s 1s/step - loss: 0.3355 - accuracy: 0.8693 - val_loss: 0.3956 - val_accuracy: 0.8249\n",
            "Epoch 25/100\n",
            "81/81 [==============================] - 105s 1s/step - loss: 0.3356 - accuracy: 0.8635 - val_loss: 0.3866 - val_accuracy: 0.8326\n",
            "Epoch 26/100\n",
            "81/81 [==============================] - 105s 1s/step - loss: 0.3256 - accuracy: 0.8650 - val_loss: 0.3881 - val_accuracy: 0.8356\n",
            "Epoch 27/100\n",
            "81/81 [==============================] - 105s 1s/step - loss: 0.3144 - accuracy: 0.8736 - val_loss: 0.4024 - val_accuracy: 0.8326\n",
            "Epoch 28/100\n",
            "81/81 [==============================] - 105s 1s/step - loss: 0.3130 - accuracy: 0.8779 - val_loss: 0.3922 - val_accuracy: 0.8402\n",
            "Epoch 29/100\n",
            "81/81 [==============================] - 104s 1s/step - loss: 0.3197 - accuracy: 0.8709 - val_loss: 0.3958 - val_accuracy: 0.8356\n",
            "Epoch 30/100\n",
            "81/81 [==============================] - 105s 1s/step - loss: 0.3148 - accuracy: 0.8720 - val_loss: 0.4039 - val_accuracy: 0.8387\n",
            "Epoch 31/100\n",
            "81/81 [==============================] - 105s 1s/step - loss: 0.3119 - accuracy: 0.8709 - val_loss: 0.4050 - val_accuracy: 0.8372\n",
            "Epoch 32/100\n",
            "81/81 [==============================] - 105s 1s/step - loss: 0.3162 - accuracy: 0.8650 - val_loss: 0.3957 - val_accuracy: 0.8372\n",
            "Epoch 33/100\n",
            "81/81 [==============================] - 105s 1s/step - loss: 0.3144 - accuracy: 0.8650 - val_loss: 0.3945 - val_accuracy: 0.8372\n",
            "Epoch 34/100\n",
            "81/81 [==============================] - 105s 1s/step - loss: 0.2993 - accuracy: 0.8825 - val_loss: 0.3905 - val_accuracy: 0.8495\n",
            "Epoch 35/100\n",
            "81/81 [==============================] - 104s 1s/step - loss: 0.3000 - accuracy: 0.8771 - val_loss: 0.3977 - val_accuracy: 0.8356\n",
            "Epoch 36/100\n",
            "81/81 [==============================] - 107s 1s/step - loss: 0.2936 - accuracy: 0.8849 - val_loss: 0.3882 - val_accuracy: 0.8479\n",
            "Epoch 37/100\n",
            "81/81 [==============================] - 104s 1s/step - loss: 0.2994 - accuracy: 0.8751 - val_loss: 0.3943 - val_accuracy: 0.8387\n",
            "Epoch 38/100\n",
            "81/81 [==============================] - 104s 1s/step - loss: 0.2877 - accuracy: 0.8853 - val_loss: 0.3898 - val_accuracy: 0.8402\n",
            "Epoch 39/100\n",
            "81/81 [==============================] - 104s 1s/step - loss: 0.2862 - accuracy: 0.8915 - val_loss: 0.3959 - val_accuracy: 0.8449\n",
            "Epoch 40/100\n",
            "81/81 [==============================] - 104s 1s/step - loss: 0.2851 - accuracy: 0.8814 - val_loss: 0.3918 - val_accuracy: 0.8387\n",
            "Epoch 41/100\n",
            "81/81 [==============================] - 104s 1s/step - loss: 0.2795 - accuracy: 0.8919 - val_loss: 0.3921 - val_accuracy: 0.8449\n",
            "Epoch 42/100\n",
            "81/81 [==============================] - 104s 1s/step - loss: 0.2851 - accuracy: 0.8903 - val_loss: 0.4077 - val_accuracy: 0.8356\n",
            "Epoch 43/100\n",
            "81/81 [==============================] - 104s 1s/step - loss: 0.2698 - accuracy: 0.9004 - val_loss: 0.3940 - val_accuracy: 0.8418\n",
            "Epoch 44/100\n",
            "81/81 [==============================] - 104s 1s/step - loss: 0.2698 - accuracy: 0.8938 - val_loss: 0.4114 - val_accuracy: 0.8402\n",
            "Epoch 45/100\n",
            "81/81 [==============================] - 105s 1s/step - loss: 0.2695 - accuracy: 0.8989 - val_loss: 0.3964 - val_accuracy: 0.8495\n",
            "Epoch 46/100\n",
            "81/81 [==============================] - 105s 1s/step - loss: 0.2651 - accuracy: 0.9005 - val_loss: 0.4163 - val_accuracy: 0.8341\n",
            "Epoch 47/100\n",
            "81/81 [==============================] - 105s 1s/step - loss: 0.2642 - accuracy: 0.8996 - val_loss: 0.3967 - val_accuracy: 0.8387\n",
            "Epoch 48/100\n",
            "81/81 [==============================] - 104s 1s/step - loss: 0.2614 - accuracy: 0.8950 - val_loss: 0.4060 - val_accuracy: 0.8402\n",
            "Epoch 49/100\n",
            "81/81 [==============================] - 105s 1s/step - loss: 0.2524 - accuracy: 0.9032 - val_loss: 0.4029 - val_accuracy: 0.8387\n",
            "Epoch 50/100\n",
            "81/81 [==============================] - 104s 1s/step - loss: 0.2654 - accuracy: 0.8950 - val_loss: 0.4249 - val_accuracy: 0.8326\n",
            "Epoch 51/100\n",
            "81/81 [==============================] - 105s 1s/step - loss: 0.2566 - accuracy: 0.9008 - val_loss: 0.4117 - val_accuracy: 0.8433\n",
            "Epoch 52/100\n",
            "81/81 [==============================] - 105s 1s/step - loss: 0.2621 - accuracy: 0.8943 - val_loss: 0.4235 - val_accuracy: 0.8387\n",
            "Epoch 53/100\n",
            "81/81 [==============================] - 105s 1s/step - loss: 0.2633 - accuracy: 0.9008 - val_loss: 0.4059 - val_accuracy: 0.8418\n",
            "Epoch 54/100\n",
            "81/81 [==============================] - 105s 1s/step - loss: 0.2548 - accuracy: 0.9016 - val_loss: 0.3949 - val_accuracy: 0.8525\n",
            "Epoch 55/100\n",
            "81/81 [==============================] - 105s 1s/step - loss: 0.2577 - accuracy: 0.9028 - val_loss: 0.4098 - val_accuracy: 0.8402\n",
            "Epoch 56/100\n",
            "81/81 [==============================] - 104s 1s/step - loss: 0.2533 - accuracy: 0.8965 - val_loss: 0.4072 - val_accuracy: 0.8402\n",
            "Epoch 57/100\n",
            "81/81 [==============================] - 105s 1s/step - loss: 0.2442 - accuracy: 0.9035 - val_loss: 0.4105 - val_accuracy: 0.8402\n",
            "Epoch 58/100\n",
            "81/81 [==============================] - 104s 1s/step - loss: 0.2522 - accuracy: 0.9024 - val_loss: 0.4025 - val_accuracy: 0.8418\n",
            "Epoch 59/100\n",
            "81/81 [==============================] - 104s 1s/step - loss: 0.2368 - accuracy: 0.9109 - val_loss: 0.4047 - val_accuracy: 0.8464\n",
            "Epoch 60/100\n",
            "81/81 [==============================] - 104s 1s/step - loss: 0.2438 - accuracy: 0.9008 - val_loss: 0.4288 - val_accuracy: 0.8372\n",
            "Epoch 61/100\n",
            "81/81 [==============================] - 104s 1s/step - loss: 0.2411 - accuracy: 0.9063 - val_loss: 0.4111 - val_accuracy: 0.8464\n",
            "Epoch 62/100\n",
            "81/81 [==============================] - 105s 1s/step - loss: 0.2426 - accuracy: 0.9043 - val_loss: 0.4210 - val_accuracy: 0.8387\n",
            "Epoch 63/100\n",
            "81/81 [==============================] - 105s 1s/step - loss: 0.2335 - accuracy: 0.9109 - val_loss: 0.4106 - val_accuracy: 0.8464\n",
            "Epoch 64/100\n",
            "81/81 [==============================] - 104s 1s/step - loss: 0.2321 - accuracy: 0.9121 - val_loss: 0.4031 - val_accuracy: 0.8495\n",
            "Epoch 65/100\n",
            "81/81 [==============================] - 104s 1s/step - loss: 0.2309 - accuracy: 0.9129 - val_loss: 0.4025 - val_accuracy: 0.8510\n",
            "Epoch 66/100\n",
            "81/81 [==============================] - 104s 1s/step - loss: 0.2316 - accuracy: 0.9152 - val_loss: 0.4016 - val_accuracy: 0.8449\n",
            "Epoch 67/100\n",
            "81/81 [==============================] - 105s 1s/step - loss: 0.2269 - accuracy: 0.9129 - val_loss: 0.4105 - val_accuracy: 0.8464\n",
            "Epoch 68/100\n",
            "81/81 [==============================] - 105s 1s/step - loss: 0.2297 - accuracy: 0.9090 - val_loss: 0.4168 - val_accuracy: 0.8433\n",
            "Epoch 69/100\n",
            "81/81 [==============================] - 105s 1s/step - loss: 0.2267 - accuracy: 0.9152 - val_loss: 0.4157 - val_accuracy: 0.8495\n",
            "Epoch 70/100\n",
            "81/81 [==============================] - 104s 1s/step - loss: 0.2206 - accuracy: 0.9245 - val_loss: 0.4230 - val_accuracy: 0.8418\n",
            "Epoch 71/100\n",
            "81/81 [==============================] - 104s 1s/step - loss: 0.2123 - accuracy: 0.9195 - val_loss: 0.4337 - val_accuracy: 0.8372\n",
            "Epoch 72/100\n",
            "81/81 [==============================] - 105s 1s/step - loss: 0.2239 - accuracy: 0.9195 - val_loss: 0.4039 - val_accuracy: 0.8541\n",
            "Epoch 73/100\n",
            "81/81 [==============================] - 104s 1s/step - loss: 0.2133 - accuracy: 0.9222 - val_loss: 0.4176 - val_accuracy: 0.8464\n",
            "Epoch 74/100\n",
            "81/81 [==============================] - 104s 1s/step - loss: 0.2070 - accuracy: 0.9234 - val_loss: 0.4239 - val_accuracy: 0.8479\n",
            "Epoch 75/100\n",
            "81/81 [==============================] - 104s 1s/step - loss: 0.2156 - accuracy: 0.9164 - val_loss: 0.4186 - val_accuracy: 0.8541\n",
            "Epoch 76/100\n",
            "81/81 [==============================] - 104s 1s/step - loss: 0.2058 - accuracy: 0.9273 - val_loss: 0.4211 - val_accuracy: 0.8479\n",
            "Epoch 77/100\n",
            "81/81 [==============================] - 104s 1s/step - loss: 0.2181 - accuracy: 0.9210 - val_loss: 0.4236 - val_accuracy: 0.8464\n",
            "Epoch 78/100\n",
            "81/81 [==============================] - 104s 1s/step - loss: 0.2048 - accuracy: 0.9199 - val_loss: 0.4286 - val_accuracy: 0.8418\n",
            "Epoch 79/100\n",
            "81/81 [==============================] - 104s 1s/step - loss: 0.2020 - accuracy: 0.9238 - val_loss: 0.4139 - val_accuracy: 0.8510\n",
            "Epoch 80/100\n",
            "81/81 [==============================] - 104s 1s/step - loss: 0.2047 - accuracy: 0.9207 - val_loss: 0.4346 - val_accuracy: 0.8372\n",
            "Epoch 81/100\n",
            "81/81 [==============================] - 104s 1s/step - loss: 0.1954 - accuracy: 0.9249 - val_loss: 0.4238 - val_accuracy: 0.8449\n",
            "Epoch 82/100\n",
            "81/81 [==============================] - 104s 1s/step - loss: 0.2072 - accuracy: 0.9230 - val_loss: 0.4263 - val_accuracy: 0.8402\n",
            "Epoch 83/100\n",
            "81/81 [==============================] - 103s 1s/step - loss: 0.2011 - accuracy: 0.9265 - val_loss: 0.4311 - val_accuracy: 0.8510\n",
            "Epoch 84/100\n",
            "81/81 [==============================] - 104s 1s/step - loss: 0.2028 - accuracy: 0.9242 - val_loss: 0.4321 - val_accuracy: 0.8464\n",
            "Epoch 85/100\n",
            "81/81 [==============================] - 104s 1s/step - loss: 0.2023 - accuracy: 0.9249 - val_loss: 0.4291 - val_accuracy: 0.8464\n",
            "Epoch 86/100\n",
            "81/81 [==============================] - 104s 1s/step - loss: 0.2002 - accuracy: 0.9234 - val_loss: 0.4210 - val_accuracy: 0.8433\n",
            "Epoch 87/100\n",
            "81/81 [==============================] - 104s 1s/step - loss: 0.1937 - accuracy: 0.9273 - val_loss: 0.4165 - val_accuracy: 0.8525\n",
            "Epoch 88/100\n",
            "81/81 [==============================] - 104s 1s/step - loss: 0.1886 - accuracy: 0.9284 - val_loss: 0.4397 - val_accuracy: 0.8387\n",
            "Epoch 89/100\n",
            "81/81 [==============================] - 104s 1s/step - loss: 0.1788 - accuracy: 0.9397 - val_loss: 0.4401 - val_accuracy: 0.8464\n",
            "Epoch 90/100\n",
            "81/81 [==============================] - 105s 1s/step - loss: 0.1723 - accuracy: 0.9405 - val_loss: 0.4260 - val_accuracy: 0.8495\n",
            "Epoch 91/100\n",
            "81/81 [==============================] - 104s 1s/step - loss: 0.1954 - accuracy: 0.9265 - val_loss: 0.4192 - val_accuracy: 0.8479\n",
            "Epoch 92/100\n",
            "81/81 [==============================] - 104s 1s/step - loss: 0.1836 - accuracy: 0.9343 - val_loss: 0.4200 - val_accuracy: 0.8449\n",
            "Epoch 93/100\n",
            "81/81 [==============================] - 104s 1s/step - loss: 0.1701 - accuracy: 0.9370 - val_loss: 0.4325 - val_accuracy: 0.8525\n",
            "Epoch 94/100\n",
            "81/81 [==============================] - 105s 1s/step - loss: 0.1749 - accuracy: 0.9389 - val_loss: 0.4375 - val_accuracy: 0.8464\n",
            "Epoch 95/100\n",
            "81/81 [==============================] - 104s 1s/step - loss: 0.1874 - accuracy: 0.9308 - val_loss: 0.4275 - val_accuracy: 0.8449\n",
            "Epoch 96/100\n",
            "81/81 [==============================] - 104s 1s/step - loss: 0.1712 - accuracy: 0.9409 - val_loss: 0.4414 - val_accuracy: 0.8449\n",
            "Epoch 97/100\n",
            "81/81 [==============================] - 104s 1s/step - loss: 0.1821 - accuracy: 0.9335 - val_loss: 0.4336 - val_accuracy: 0.8449\n",
            "Epoch 98/100\n",
            "81/81 [==============================] - 104s 1s/step - loss: 0.1679 - accuracy: 0.9428 - val_loss: 0.4305 - val_accuracy: 0.8525\n",
            "Epoch 99/100\n",
            "81/81 [==============================] - 103s 1s/step - loss: 0.1802 - accuracy: 0.9335 - val_loss: 0.4303 - val_accuracy: 0.8479\n",
            "Epoch 100/100\n",
            "81/81 [==============================] - 103s 1s/step - loss: 0.1720 - accuracy: 0.9366 - val_loss: 0.4271 - val_accuracy: 0.8479\n",
            "              precision    recall  f1-score   support\n",
            "\n",
            " not_smoking       0.81      0.80      0.81       255\n",
            "     smoking       0.87      0.88      0.88       396\n",
            "\n",
            "    accuracy                           0.85       651\n",
            "   macro avg       0.84      0.84      0.84       651\n",
            "weighted avg       0.85      0.85      0.85       651\n",
            "\n"
          ]
        },
        {
          "output_type": "stream",
          "name": "stderr",
          "text": [
            "/usr/local/lib/python3.7/dist-packages/keras/engine/functional.py:1410: CustomMaskWarning: Custom mask layers require a config and must override get_config. When loading, the custom mask layer must be passed to the custom_objects argument.\n",
            "  layer_config = serialize_layer_fn(layer)\n"
          ]
        },
        {
          "output_type": "display_data",
          "data": {
            "image/png": "[encoded data removed]",
            "text/plain": [
              "<Figure size 432x288 with 1 Axes>"
            ]
          },
          "metadata": {}
        }
      ]
    }
  ]
}