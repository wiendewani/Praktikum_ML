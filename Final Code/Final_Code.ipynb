{
  "cells": [
    {
      "cell_type": "markdown",
      "metadata": {
        "id": "view-in-github",
        "colab_type": "text"
      },
      "source": [
        "<a href=\"https://colab.research.google.com/github/wiendewani/Praktikum_ML/blob/main/Final%20Code/Final_Code.ipynb\" target=\"_parent\"><img src=\"https://colab.research.google.com/assets/colab-badge.svg\" alt=\"Open In Colab\"/></a>"
      ]
    },
    {
      "cell_type": "code",
      "execution_count": null,
      "metadata": {
        "id": "YZY65H_uwGvu"
      },
      "outputs": [],
      "source": [
        "from tensorflow.keras.preprocessing.image import ImageDataGenerator\n",
        "from tensorflow.keras.applications import MobileNetV2\n",
        "from tensorflow.keras.layers import AveragePooling2D\n",
        "from tensorflow.keras.layers import Dropout\n",
        "from tensorflow.keras.layers import Flatten\n",
        "from tensorflow.keras.layers import Dense\n",
        "from tensorflow.keras.layers import Input\n",
        "from tensorflow.keras.models import Model\n",
        "from tensorflow.keras.optimizers import Adam\n",
        "from tensorflow.keras.applications.mobilenet_v2 import preprocess_input\n",
        "from tensorflow.keras.preprocessing.image import img_to_array\n",
        "from tensorflow.keras.preprocessing.image import load_img\n",
        "from tensorflow.keras.utils import to_categorical\n",
        "from sklearn.preprocessing import LabelBinarizer\n",
        "from sklearn.model_selection import train_test_split\n",
        "from sklearn.metrics import classification_report\n",
        "from imutils import paths\n",
        "import matplotlib.pyplot as plt\n",
        "import numpy as np\n",
        "import os"
      ]
    },
    {
      "cell_type": "code",
      "execution_count": null,
      "metadata": {
        "colab": {
          "base_uri": "https://localhost:8080/"
        },
        "id": "wt-Wxo-pwIKn",
        "outputId": "29207670-8e17-442d-fee4-a534a0709792"
      },
      "outputs": [
        {
          "name": "stdout",
          "output_type": "stream",
          "text": [
            "Requirement already satisfied: imutils in /usr/local/lib/python3.7/dist-packages (0.5.4)\n"
          ]
        }
      ],
      "source": [
        "!pip install imutils"
      ]
    },
    {
      "cell_type": "code",
      "execution_count": null,
      "metadata": {
        "id": "ffojtmsswQn0"
      },
      "outputs": [],
      "source": [
        ""
      ]
    },
    {
      "cell_type": "code",
      "execution_count": null,
      "metadata": {
        "id": "UjhOrIa7wJqK"
      },
      "outputs": [],
      "source": [
        "dataset_path='/content/drive/MyDrive/Pembelajaran Mesin/Project ML/data/data/'"
      ]
    },
    {
      "cell_type": "code",
      "execution_count": null,
      "metadata": {
        "id": "wPB-rdFtwdcq"
      },
      "outputs": [],
      "source": [
        "INIT_LR = 1e-4\n",
        "EPOCHS = 100\n",
        "BS = 32\n",
        "imagePaths = list(paths.list_images(dataset_path))"
      ]
    },
    {
      "cell_type": "code",
      "execution_count": null,
      "metadata": {
        "colab": {
          "base_uri": "https://localhost:8080/"
        },
        "id": "UwVPG3TKwgHE",
        "outputId": "91f21d00-0f41-4d8e-9889-7ddb8c434372"
      },
      "outputs": [
        {
          "name": "stderr",
          "output_type": "stream",
          "text": [
            "/usr/local/lib/python3.7/dist-packages/PIL/Image.py:960: UserWarning: Palette images with Transparency expressed in bytes should be converted to RGBA images\n",
            "  \"Palette images with Transparency expressed in bytes should be \"\n"
          ]
        }
      ],
      "source": [
        "data = []\n",
        "labels = []\n",
        "for imagePath in imagePaths:\n",
        "    label = imagePath.split(os.path.sep)[-2]\n",
        "    image = load_img(imagePath, target_size=(224, 224))\n",
        "    image = img_to_array(image)\n",
        "    image = preprocess_input(image)\n",
        "    data.append(image)\n",
        "    labels.append(label)\n",
        "data = np.array(data, dtype=\"float32\")\n",
        "labels = np.array(labels)\n",
        "lb = LabelBinarizer()\n",
        "labels = lb.fit_transform(labels)\n",
        "labels = to_categorical(labels)"
      ]
    },
    {
      "cell_type": "code",
      "execution_count": null,
      "metadata": {
        "id": "e9hJr1Ghwju7"
      },
      "outputs": [],
      "source": [
        "(trainX, testX, trainY, testY) = train_test_split(data, labels,test_size=0.20, stratify=labels, random_state=42)\n",
        "\n",
        "aug = ImageDataGenerator(\n",
        "    rotation_range=20,\n",
        "    zoom_range=0.15,\n",
        "    width_shift_range=0.2,\n",
        "    height_shift_range=0.2,\n",
        "    shear_range=0.15,\n",
        "    horizontal_flip=True,\n",
        "    fill_mode=\"nearest\")"
      ]
    },
    {
      "cell_type": "code",
      "execution_count": null,
      "metadata": {
        "colab": {
          "base_uri": "https://localhost:8080/"
        },
        "id": "cHRdzBlhwmhG",
        "outputId": "f82d4a5f-4864-4f54-876e-5f25e8a78a33"
      },
      "outputs": [
        {
          "name": "stdout",
          "output_type": "stream",
          "text": [
            "WARNING:tensorflow:`input_shape` is undefined or non-square, or `rows` is not in [96, 128, 160, 192, 224]. Weights for input shape (224, 224) will be loaded as the default.\n",
            "Downloading data from https://storage.googleapis.com/tensorflow/keras-applications/mobilenet_v2/mobilenet_v2_weights_tf_dim_ordering_tf_kernels_1.0_224_no_top.h5\n",
            "9412608/9406464 [==============================] - 0s 0us/step\n",
            "9420800/9406464 [==============================] - 0s 0us/step\n"
          ]
        }
      ],
      "source": [
        "baseModel = MobileNetV2(weights=\"imagenet\", include_top=False,input_tensor=Input(shape=(224, 224, 3)))\n",
        "\n",
        "headModel = baseModel.output\n",
        "headModel = AveragePooling2D(pool_size=(7, 7))(headModel)\n",
        "headModel = Flatten(name=\"flatten\")(headModel)\n",
        "headModel = Dense(128, activation=\"relu\")(headModel)\n",
        "headModel = Dropout(0.5)(headModel)\n",
        "headModel = Dense(2, activation=\"softmax\")(headModel)\n",
        "model = Model(inputs=baseModel.input, outputs=headModel)"
      ]
    },
    {
      "cell_type": "code",
      "execution_count": null,
      "metadata": {
        "id": "lkpZ1zJoORQl"
      },
      "outputs": [],
      "source": [
        ""
      ]
    },
    {
      "cell_type": "code",
      "execution_count": null,
      "metadata": {
        "id": "-BVplPWG1ylr"
      },
      "outputs": [],
      "source": [
        "import tensorflow as tf"
      ]
    },
    {
      "cell_type": "code",
      "execution_count": null,
      "metadata": {
        "id": "cSIuOSy81YPH"
      },
      "outputs": [],
      "source": [
        "class myCallbacks(tf.keras.callbacks.Callback):\n",
        "    def on_epoch_end(self, epochs, logs={}) :\n",
        "        if(logs.get('acc') is not None and logs.get('val_acc') >= 0.87) :\n",
        "            print('\\nReached 95 % accuracy so cancelling training!')\n",
        "            self.model.stop_training = True\n",
        "\n",
        "\n",
        "callbacks = myCallbacks()"
      ]
    },
    {
      "cell_type": "code",
      "execution_count": null,
      "metadata": {
        "colab": {
          "background_save": true,
          "base_uri": "https://localhost:8080/"
        },
        "id": "8Q3sTgKAwqFR",
        "outputId": "ac031c38-cddd-4e5c-8cd9-dd9933460cc6"
      },
      "outputs": [
        {
          "name": "stderr",
          "output_type": "stream",
          "text": [
            "/usr/local/lib/python3.7/dist-packages/keras/optimizer_v2/adam.py:105: UserWarning: The `lr` argument is deprecated, use `learning_rate` instead.\n",
            "  super(Adam, self).__init__(name, **kwargs)\n"
          ]
        },
        {
          "name": "stdout",
          "output_type": "stream",
          "text": [
            "Epoch 1/100\n",
            "81/81 [==============================] - 117s 1s/step - loss: 0.6695 - accuracy: 0.6488 - val_loss: 0.5305 - val_accuracy: 0.7573\n",
            "Epoch 2/100\n",
            "81/81 [==============================] - 112s 1s/step - loss: 0.5466 - accuracy: 0.7569 - val_loss: 0.4798 - val_accuracy: 0.7896\n",
            "Epoch 3/100\n",
            "81/81 [==============================] - 113s 1s/step - loss: 0.4970 - accuracy: 0.7791 - val_loss: 0.4586 - val_accuracy: 0.8065\n",
            "Epoch 4/100\n",
            "81/81 [==============================] - 113s 1s/step - loss: 0.4830 - accuracy: 0.7872 - val_loss: 0.4479 - val_accuracy: 0.8080\n",
            "Epoch 5/100\n",
            "81/81 [==============================] - 113s 1s/step - loss: 0.4581 - accuracy: 0.8036 - val_loss: 0.4359 - val_accuracy: 0.8187\n",
            "Epoch 6/100\n",
            "81/81 [==============================] - 113s 1s/step - loss: 0.4465 - accuracy: 0.8059 - val_loss: 0.4307 - val_accuracy: 0.8203\n",
            "Epoch 7/100\n",
            "81/81 [==============================] - 113s 1s/step - loss: 0.4326 - accuracy: 0.8184 - val_loss: 0.4222 - val_accuracy: 0.8172\n",
            "Epoch 8/100\n",
            "81/81 [==============================] - 113s 1s/step - loss: 0.4164 - accuracy: 0.8234 - val_loss: 0.4156 - val_accuracy: 0.8141\n",
            "Epoch 9/100\n",
            "81/81 [==============================] - 114s 1s/step - loss: 0.4151 - accuracy: 0.8246 - val_loss: 0.4120 - val_accuracy: 0.8172\n",
            "Epoch 10/100\n",
            "81/81 [==============================] - 114s 1s/step - loss: 0.3929 - accuracy: 0.8335 - val_loss: 0.4085 - val_accuracy: 0.8203\n",
            "Epoch 11/100\n",
            "81/81 [==============================] - 113s 1s/step - loss: 0.3871 - accuracy: 0.8347 - val_loss: 0.4052 - val_accuracy: 0.8233\n",
            "Epoch 12/100\n",
            "81/81 [==============================] - 114s 1s/step - loss: 0.3890 - accuracy: 0.8308 - val_loss: 0.4038 - val_accuracy: 0.8233\n",
            "Epoch 13/100\n",
            "81/81 [==============================] - 118s 1s/step - loss: 0.3844 - accuracy: 0.8433 - val_loss: 0.4013 - val_accuracy: 0.8326\n",
            "Epoch 14/100\n",
            "81/81 [==============================] - 114s 1s/step - loss: 0.3718 - accuracy: 0.8471 - val_loss: 0.4088 - val_accuracy: 0.8264\n",
            "Epoch 15/100\n",
            "81/81 [==============================] - 115s 1s/step - loss: 0.3653 - accuracy: 0.8487 - val_loss: 0.3997 - val_accuracy: 0.8310\n",
            "Epoch 16/100\n",
            "81/81 [==============================] - 114s 1s/step - loss: 0.3588 - accuracy: 0.8538 - val_loss: 0.4108 - val_accuracy: 0.8203\n",
            "Epoch 17/100\n",
            "81/81 [==============================] - 114s 1s/step - loss: 0.3573 - accuracy: 0.8526 - val_loss: 0.3987 - val_accuracy: 0.8341\n",
            "Epoch 18/100\n",
            "81/81 [==============================] - 116s 1s/step - loss: 0.3525 - accuracy: 0.8541 - val_loss: 0.4009 - val_accuracy: 0.8372\n",
            "Epoch 19/100\n",
            "81/81 [==============================] - 114s 1s/step - loss: 0.3494 - accuracy: 0.8569 - val_loss: 0.3983 - val_accuracy: 0.8387\n",
            "Epoch 20/100\n",
            "81/81 [==============================] - 114s 1s/step - loss: 0.3580 - accuracy: 0.8538 - val_loss: 0.3951 - val_accuracy: 0.8418\n",
            "Epoch 21/100\n",
            "81/81 [==============================] - 114s 1s/step - loss: 0.3366 - accuracy: 0.8704 - val_loss: 0.4011 - val_accuracy: 0.8372\n",
            "Epoch 22/100\n",
            "81/81 [==============================] - 114s 1s/step - loss: 0.3434 - accuracy: 0.8600 - val_loss: 0.3972 - val_accuracy: 0.8326\n",
            "Epoch 23/100\n",
            "81/81 [==============================] - 116s 1s/step - loss: 0.3414 - accuracy: 0.8573 - val_loss: 0.3940 - val_accuracy: 0.8310\n",
            "Epoch 24/100\n",
            "81/81 [==============================] - 114s 1s/step - loss: 0.3303 - accuracy: 0.8604 - val_loss: 0.4030 - val_accuracy: 0.8341\n",
            "Epoch 25/100\n",
            "81/81 [==============================] - 114s 1s/step - loss: 0.3375 - accuracy: 0.8627 - val_loss: 0.4012 - val_accuracy: 0.8326\n",
            "Epoch 26/100\n",
            "81/81 [==============================] - 114s 1s/step - loss: 0.3270 - accuracy: 0.8670 - val_loss: 0.3962 - val_accuracy: 0.8402\n",
            "Epoch 27/100\n",
            "81/81 [==============================] - 114s 1s/step - loss: 0.3313 - accuracy: 0.8608 - val_loss: 0.3935 - val_accuracy: 0.8356\n",
            "Epoch 28/100\n",
            "81/81 [==============================] - 114s 1s/step - loss: 0.3154 - accuracy: 0.8678 - val_loss: 0.3924 - val_accuracy: 0.8372\n",
            "Epoch 29/100\n",
            "81/81 [==============================] - 114s 1s/step - loss: 0.3184 - accuracy: 0.8767 - val_loss: 0.3971 - val_accuracy: 0.8341\n",
            "Epoch 30/100\n",
            "81/81 [==============================] - 113s 1s/step - loss: 0.3172 - accuracy: 0.8740 - val_loss: 0.3966 - val_accuracy: 0.8341\n",
            "Epoch 31/100\n",
            "81/81 [==============================] - 113s 1s/step - loss: 0.3036 - accuracy: 0.8818 - val_loss: 0.4218 - val_accuracy: 0.8295\n",
            "Epoch 32/100\n",
            "81/81 [==============================] - 113s 1s/step - loss: 0.3100 - accuracy: 0.8763 - val_loss: 0.4056 - val_accuracy: 0.8341\n",
            "Epoch 33/100\n",
            "81/81 [==============================] - 113s 1s/step - loss: 0.3072 - accuracy: 0.8802 - val_loss: 0.4105 - val_accuracy: 0.8295\n",
            "Epoch 34/100\n",
            "81/81 [==============================] - 113s 1s/step - loss: 0.2925 - accuracy: 0.8856 - val_loss: 0.3964 - val_accuracy: 0.8387\n",
            "Epoch 35/100\n",
            "81/81 [==============================] - 114s 1s/step - loss: 0.2905 - accuracy: 0.8837 - val_loss: 0.3951 - val_accuracy: 0.8418\n",
            "Epoch 36/100\n",
            "81/81 [==============================] - 113s 1s/step - loss: 0.2965 - accuracy: 0.8755 - val_loss: 0.3999 - val_accuracy: 0.8433\n",
            "Epoch 37/100\n",
            "81/81 [==============================] - 113s 1s/step - loss: 0.2951 - accuracy: 0.8810 - val_loss: 0.3991 - val_accuracy: 0.8402\n",
            "Epoch 38/100\n",
            "81/81 [==============================] - 114s 1s/step - loss: 0.2922 - accuracy: 0.8845 - val_loss: 0.4060 - val_accuracy: 0.8372\n",
            "Epoch 39/100\n",
            "81/81 [==============================] - 113s 1s/step - loss: 0.2882 - accuracy: 0.8884 - val_loss: 0.4105 - val_accuracy: 0.8218\n",
            "Epoch 40/100\n",
            "81/81 [==============================] - 113s 1s/step - loss: 0.2815 - accuracy: 0.8919 - val_loss: 0.4153 - val_accuracy: 0.8218\n",
            "Epoch 41/100\n",
            "81/81 [==============================] - 113s 1s/step - loss: 0.2836 - accuracy: 0.8829 - val_loss: 0.4033 - val_accuracy: 0.8387\n",
            "Epoch 42/100\n",
            "81/81 [==============================] - 113s 1s/step - loss: 0.2764 - accuracy: 0.8926 - val_loss: 0.4269 - val_accuracy: 0.8310\n",
            "Epoch 43/100\n",
            "81/81 [==============================] - 113s 1s/step - loss: 0.2782 - accuracy: 0.8930 - val_loss: 0.4096 - val_accuracy: 0.8310\n",
            "Epoch 44/100\n",
            "81/81 [==============================] - 113s 1s/step - loss: 0.2776 - accuracy: 0.8868 - val_loss: 0.4108 - val_accuracy: 0.8233\n",
            "Epoch 45/100\n",
            "81/81 [==============================] - 113s 1s/step - loss: 0.2851 - accuracy: 0.8904 - val_loss: 0.4153 - val_accuracy: 0.8310\n",
            "Epoch 46/100\n",
            "81/81 [==============================] - 113s 1s/step - loss: 0.2631 - accuracy: 0.8973 - val_loss: 0.4185 - val_accuracy: 0.8310\n",
            "Epoch 47/100\n",
            "81/81 [==============================] - 113s 1s/step - loss: 0.2712 - accuracy: 0.8938 - val_loss: 0.4111 - val_accuracy: 0.8341\n",
            "Epoch 48/100\n",
            "81/81 [==============================] - 113s 1s/step - loss: 0.2669 - accuracy: 0.8950 - val_loss: 0.4031 - val_accuracy: 0.8418\n",
            "Epoch 49/100\n",
            "81/81 [==============================] - 113s 1s/step - loss: 0.2650 - accuracy: 0.8985 - val_loss: 0.4161 - val_accuracy: 0.8310\n",
            "Epoch 50/100\n",
            "81/81 [==============================] - 114s 1s/step - loss: 0.2633 - accuracy: 0.8946 - val_loss: 0.4077 - val_accuracy: 0.8495\n",
            "Epoch 51/100\n",
            "81/81 [==============================] - 114s 1s/step - loss: 0.2483 - accuracy: 0.9043 - val_loss: 0.4166 - val_accuracy: 0.8387\n",
            "Epoch 52/100\n",
            "81/81 [==============================] - 114s 1s/step - loss: 0.2555 - accuracy: 0.9028 - val_loss: 0.4041 - val_accuracy: 0.8464\n",
            "Epoch 53/100\n",
            "81/81 [==============================] - 113s 1s/step - loss: 0.2576 - accuracy: 0.8926 - val_loss: 0.4177 - val_accuracy: 0.8326\n",
            "Epoch 54/100\n",
            "81/81 [==============================] - 113s 1s/step - loss: 0.2520 - accuracy: 0.9020 - val_loss: 0.4164 - val_accuracy: 0.8372\n",
            "Epoch 55/100\n",
            "81/81 [==============================] - 114s 1s/step - loss: 0.2552 - accuracy: 0.8958 - val_loss: 0.4087 - val_accuracy: 0.8326\n",
            "Epoch 56/100\n",
            "81/81 [==============================] - 114s 1s/step - loss: 0.2446 - accuracy: 0.9059 - val_loss: 0.4028 - val_accuracy: 0.8464\n",
            "Epoch 57/100\n",
            "81/81 [==============================] - 113s 1s/step - loss: 0.2486 - accuracy: 0.9043 - val_loss: 0.4118 - val_accuracy: 0.8433\n",
            "Epoch 58/100\n",
            "81/81 [==============================] - 113s 1s/step - loss: 0.2465 - accuracy: 0.9012 - val_loss: 0.4121 - val_accuracy: 0.8387\n",
            "Epoch 59/100\n",
            "81/81 [==============================] - 112s 1s/step - loss: 0.2417 - accuracy: 0.9086 - val_loss: 0.4069 - val_accuracy: 0.8464\n",
            "Epoch 60/100\n",
            "81/81 [==============================] - 112s 1s/step - loss: 0.2343 - accuracy: 0.9059 - val_loss: 0.4074 - val_accuracy: 0.8541\n",
            "Epoch 61/100\n",
            "81/81 [==============================] - 112s 1s/step - loss: 0.2365 - accuracy: 0.9074 - val_loss: 0.4112 - val_accuracy: 0.8418\n",
            "Epoch 62/100\n",
            "81/81 [==============================] - 113s 1s/step - loss: 0.2332 - accuracy: 0.9168 - val_loss: 0.4237 - val_accuracy: 0.8341\n",
            "Epoch 63/100\n",
            "81/81 [==============================] - 116s 1s/step - loss: 0.2352 - accuracy: 0.9102 - val_loss: 0.4160 - val_accuracy: 0.8433\n",
            "Epoch 64/100\n",
            "81/81 [==============================] - 113s 1s/step - loss: 0.2399 - accuracy: 0.9102 - val_loss: 0.4141 - val_accuracy: 0.8387\n",
            "Epoch 65/100\n",
            "81/81 [==============================] - 113s 1s/step - loss: 0.2326 - accuracy: 0.9113 - val_loss: 0.4058 - val_accuracy: 0.8402\n",
            "Epoch 66/100\n",
            "81/81 [==============================] - 112s 1s/step - loss: 0.2265 - accuracy: 0.9117 - val_loss: 0.4304 - val_accuracy: 0.8280\n",
            "Epoch 67/100\n",
            "81/81 [==============================] - 116s 1s/step - loss: 0.2300 - accuracy: 0.9137 - val_loss: 0.4159 - val_accuracy: 0.8479\n",
            "Epoch 68/100\n",
            "81/81 [==============================] - 114s 1s/step - loss: 0.2188 - accuracy: 0.9175 - val_loss: 0.4230 - val_accuracy: 0.8341\n",
            "Epoch 69/100\n",
            "81/81 [==============================] - 112s 1s/step - loss: 0.2233 - accuracy: 0.9137 - val_loss: 0.4043 - val_accuracy: 0.8525\n",
            "Epoch 70/100\n",
            "81/81 [==============================] - 113s 1s/step - loss: 0.2258 - accuracy: 0.9121 - val_loss: 0.4098 - val_accuracy: 0.8402\n",
            "Epoch 71/100\n",
            "81/81 [==============================] - 114s 1s/step - loss: 0.2183 - accuracy: 0.9168 - val_loss: 0.4203 - val_accuracy: 0.8433\n",
            "Epoch 72/100\n",
            "81/81 [==============================] - 117s 1s/step - loss: 0.2182 - accuracy: 0.9148 - val_loss: 0.4394 - val_accuracy: 0.8295\n",
            "Epoch 73/100\n",
            "81/81 [==============================] - 113s 1s/step - loss: 0.2167 - accuracy: 0.9230 - val_loss: 0.4303 - val_accuracy: 0.8495\n",
            "Epoch 74/100\n",
            "81/81 [==============================] - 114s 1s/step - loss: 0.2235 - accuracy: 0.9098 - val_loss: 0.4089 - val_accuracy: 0.8433\n",
            "Epoch 75/100\n",
            "81/81 [==============================] - 114s 1s/step - loss: 0.2073 - accuracy: 0.9253 - val_loss: 0.4218 - val_accuracy: 0.8479\n",
            "Epoch 76/100\n",
            "81/81 [==============================] - 114s 1s/step - loss: 0.2160 - accuracy: 0.9133 - val_loss: 0.4251 - val_accuracy: 0.8402\n",
            "Epoch 77/100\n",
            "81/81 [==============================] - 114s 1s/step - loss: 0.2097 - accuracy: 0.9203 - val_loss: 0.4171 - val_accuracy: 0.8418\n",
            "Epoch 78/100\n",
            "81/81 [==============================] - 114s 1s/step - loss: 0.2036 - accuracy: 0.9191 - val_loss: 0.4199 - val_accuracy: 0.8449\n",
            "Epoch 79/100\n",
            "81/81 [==============================] - 114s 1s/step - loss: 0.2099 - accuracy: 0.9226 - val_loss: 0.4123 - val_accuracy: 0.8479\n",
            "Epoch 80/100\n",
            "81/81 [==============================] - 113s 1s/step - loss: 0.2089 - accuracy: 0.9191 - val_loss: 0.4219 - val_accuracy: 0.8479\n",
            "Epoch 81/100\n",
            "81/81 [==============================] - 115s 1s/step - loss: 0.1979 - accuracy: 0.9257 - val_loss: 0.4235 - val_accuracy: 0.8433\n",
            "Epoch 82/100\n",
            "81/81 [==============================] - 117s 1s/step - loss: 0.2005 - accuracy: 0.9277 - val_loss: 0.4413 - val_accuracy: 0.8356\n",
            "Epoch 83/100\n",
            "81/81 [==============================] - 130s 2s/step - loss: 0.1939 - accuracy: 0.9253 - val_loss: 0.4253 - val_accuracy: 0.8387\n",
            "Epoch 84/100\n",
            "81/81 [==============================] - 130s 2s/step - loss: 0.1911 - accuracy: 0.9327 - val_loss: 0.4208 - val_accuracy: 0.8495\n",
            "Epoch 85/100\n",
            "81/81 [==============================] - 128s 2s/step - loss: 0.1874 - accuracy: 0.9323 - val_loss: 0.4376 - val_accuracy: 0.8402\n",
            "Epoch 86/100\n",
            "81/81 [==============================] - 116s 1s/step - loss: 0.1976 - accuracy: 0.9234 - val_loss: 0.4181 - val_accuracy: 0.8449\n",
            "Epoch 87/100\n",
            "81/81 [==============================] - 114s 1s/step - loss: 0.1850 - accuracy: 0.9304 - val_loss: 0.4202 - val_accuracy: 0.8525\n",
            "Epoch 88/100\n",
            "81/81 [==============================] - 126s 2s/step - loss: 0.1848 - accuracy: 0.9339 - val_loss: 0.4267 - val_accuracy: 0.8449\n",
            "Epoch 89/100\n",
            "81/81 [==============================] - 129s 2s/step - loss: 0.1899 - accuracy: 0.9277 - val_loss: 0.4217 - val_accuracy: 0.8433\n",
            "Epoch 90/100\n",
            "81/81 [==============================] - 124s 2s/step - loss: 0.1807 - accuracy: 0.9296 - val_loss: 0.4442 - val_accuracy: 0.8372\n",
            "Epoch 91/100\n",
            "81/81 [==============================] - 115s 1s/step - loss: 0.1951 - accuracy: 0.9277 - val_loss: 0.4225 - val_accuracy: 0.8418\n",
            "Epoch 92/100\n",
            "81/81 [==============================] - 114s 1s/step - loss: 0.1840 - accuracy: 0.9312 - val_loss: 0.4271 - val_accuracy: 0.8510\n",
            "Epoch 93/100\n",
            "81/81 [==============================] - 119s 1s/step - loss: 0.1802 - accuracy: 0.9273 - val_loss: 0.4445 - val_accuracy: 0.8387\n",
            "Epoch 94/100\n",
            "81/81 [==============================] - 120s 1s/step - loss: 0.1796 - accuracy: 0.9331 - val_loss: 0.4431 - val_accuracy: 0.8418\n",
            "Epoch 95/100\n",
            "81/81 [==============================] - 113s 1s/step - loss: 0.1809 - accuracy: 0.9378 - val_loss: 0.4308 - val_accuracy: 0.8464\n",
            "Epoch 96/100\n",
            "81/81 [==============================] - 114s 1s/step - loss: 0.1858 - accuracy: 0.9164 - val_loss: 0.4281 - val_accuracy: 0.8449\n",
            "Epoch 97/100\n",
            "81/81 [==============================] - 113s 1s/step - loss: 0.1743 - accuracy: 0.9347 - val_loss: 0.4450 - val_accuracy: 0.8402\n",
            "Epoch 98/100\n",
            "81/81 [==============================] - 113s 1s/step - loss: 0.1719 - accuracy: 0.9358 - val_loss: 0.4279 - val_accuracy: 0.8402\n",
            "Epoch 99/100\n",
            "81/81 [==============================] - 113s 1s/step - loss: 0.1685 - accuracy: 0.9358 - val_loss: 0.4525 - val_accuracy: 0.8387\n",
            "Epoch 100/100\n",
            "81/81 [==============================] - 115s 1s/step - loss: 0.1722 - accuracy: 0.9350 - val_loss: 0.4408 - val_accuracy: 0.8449\n",
            "              precision    recall  f1-score   support\n",
            "\n",
            " not_smoking       0.80      0.81      0.80       255\n",
            "     smoking       0.88      0.87      0.87       396\n",
            "\n",
            "    accuracy                           0.84       651\n",
            "   macro avg       0.84      0.84      0.84       651\n",
            "weighted avg       0.85      0.84      0.85       651\n",
            "\n"
          ]
        },
        {
          "name": "stderr",
          "output_type": "stream",
          "text": [
            "/usr/local/lib/python3.7/dist-packages/keras/engine/functional.py:1410: CustomMaskWarning: Custom mask layers require a config and must override get_config. When loading, the custom mask layer must be passed to the custom_objects argument.\n",
            "  layer_config = serialize_layer_fn(layer)\n"
          ]
        },
        {
          "data": {
            "image/png": "[encoded data removed]",
            "text/plain": [
              "<Figure size 432x288 with 1 Axes>"
            ]
          },
          "metadata": {},
          "output_type": "display_data"
        }
      ],
      "source": [
        "for layer in baseModel.layers:\n",
        "    layer.trainable = False\n",
        "opt = Adam(lr=INIT_LR, decay=INIT_LR / EPOCHS)\n",
        "model.compile(loss=\"binary_crossentropy\", optimizer=opt,metrics=[\"accuracy\"])\n",
        "\n",
        "H = model.fit(\n",
        "    aug.flow(trainX, trainY, batch_size=BS),\n",
        "    steps_per_epoch=len(trainX) // BS,\n",
        "    validation_data=(testX, testY),\n",
        "    validation_steps=len(testX) // BS,\n",
        "    epochs=EPOCHS, callbacks = callbacks)\n",
        "\n",
        "predIdxs = model.predict(testX, batch_size=BS)\n",
        "predIdxs = np.argmax(predIdxs, axis=1)\n",
        "\n",
        "print(classification_report(testY.argmax(axis=1), predIdxs,target_names=lb.classes_))\n",
        "\n",
        "model.save(\"data.h5\")\n",
        "N = EPOCHS\n",
        "plt.style.use(\"ggplot\")\n",
        "plt.figure()\n",
        "plt.plot(np.arange(0, N), H.history[\"loss\"], label=\"train_loss\")\n",
        "plt.plot(np.arange(0, N), H.history[\"val_loss\"], label=\"val_loss\")\n",
        "plt.plot(np.arange(0, N), H.history[\"accuracy\"], label=\"train_acc\")\n",
        "plt.plot(np.arange(0, N), H.history[\"val_accuracy\"], label=\"val_acc\")\n",
        "plt.title(\"Training Loss and Accuracy\")\n",
        "plt.xlabel(\"Epoch #\")\n",
        "plt.ylabel(\"Loss/Accuracy\")\n",
        "plt.legend(loc=\"lower left\")\n",
        "plt.savefig('ploy.jpg')"
      ]
    },
    {
      "cell_type": "code",
      "execution_count": null,
      "metadata": {
        "colab": {
          "base_uri": "https://localhost:8080/"
        },
        "id": "TCWdpHrHRKSy",
        "outputId": "dd652b61-25b6-4e1a-c7ea-0b9450b8b398"
      },
      "outputs": [
        {
          "name": "stdout",
          "output_type": "stream",
          "text": [
            "Downloading data from https://storage.googleapis.com/tensorflow/keras-applications/mobilenet_v2/mobilenet_v2_weights_tf_dim_ordering_tf_kernels_1.0_224.h5\n",
            "14540800/14536120 [==============================] - 0s 0us/step\n",
            "14548992/14536120 [==============================] - 0s 0us/step\n",
            "WARNING:tensorflow:Compiled the loaded model, but the compiled metrics have yet to be built. `model.compile_metrics` will be empty until you train or evaluate the model.\n"
          ]
        },
        {
          "name": "stderr",
          "output_type": "stream",
          "text": [
            "/usr/local/lib/python3.7/dist-packages/keras/engine/functional.py:1410: CustomMaskWarning: Custom mask layers require a config and must override get_config. When loading, the custom mask layer must be passed to the custom_objects argument.\n",
            "  layer_config = serialize_layer_fn(layer)\n"
          ]
        }
      ],
      "source": [
        "model = MobileNetV2()\n",
        "model.save(\"MobileNetV2.h5\")"
      ]
    },
    {
      "cell_type": "code",
      "execution_count": null,
      "metadata": {
        "colab": {
          "base_uri": "https://localhost:8080/"
        },
        "id": "kcfgWH1qRniN",
        "outputId": "2f8ec248-2f71-43fd-e6ce-13790a8ab018"
      },
      "outputs": [
        {
          "name": "stdout",
          "output_type": "stream",
          "text": [
            "WARNING:tensorflow:No training configuration found in the save file, so the model was *not* compiled. Compile it manually.\n"
          ]
        },
        {
          "data": {
            "text/plain": [
              "<keras.engine.functional.Functional at 0x7fd83b6da850>"
            ]
          },
          "execution_count": 10,
          "metadata": {},
          "output_type": "execute_result"
        }
      ],
      "source": [
        "tf.keras.models.load_model(\"MobileNetV2.h5\")"
      ]
    },
    {
      "cell_type": "code",
      "execution_count": null,
      "metadata": {
        "id": "KvNG1MxxgZXe"
      },
      "outputs": [],
      "source": [
        ""
      ]
    }
  ],
  "metadata": {
    "colab": {
      "collapsed_sections": [],
      "name": "Final Code.ipynb",
      "provenance": [],
      "mount_file_id": "1C8Vihi_novLY2JorLQvmtcuuNr6IlhTs",
      "authorship_tag": "ABX9TyNt9W52tFawswEZCrg5th2H",
      "include_colab_link": true
    },
    "kernelspec": {
      "display_name": "Python 3",
      "name": "python3"
    },
    "language_info": {
      "name": "python"
    }
  },
  "nbformat": 4,
  "nbformat_minor": 0
}